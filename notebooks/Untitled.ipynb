{
 "cells": [
  {
   "cell_type": "code",
   "execution_count": 15,
   "id": "98c7c7be-b6ab-447e-bc96-5a562f8fd128",
   "metadata": {},
   "outputs": [],
   "source": [
    "import torch\n",
    "import torch.nn as nn\n",
    "import torch.optim as optim\n",
    "from torchvision import datasets, transforms, models\n",
    "from torch.utils.data import DataLoader\n",
    "import os\n",
    "import matplotlib.pyplot as plt\n",
    "from sklearn.metrics import confusion_matrix\n",
    "from sklearn.metrics import classification_report\n",
    "import seaborn as sns\n",
    "import random\n",
    "import numpy as np"
   ]
  },
  {
   "cell_type": "code",
   "execution_count": 14,
   "id": "17c8ece8-3654-4a59-9177-8c546b6faf7f",
   "metadata": {},
   "outputs": [
    {
     "name": "stdout",
     "output_type": "stream",
     "text": [
      "Collecting torch\n",
      "  Downloading torch-2.7.1-cp312-cp312-win_amd64.whl.metadata (28 kB)\n",
      "Collecting torchvision\n",
      "  Downloading torchvision-0.22.1-cp312-cp312-win_amd64.whl.metadata (6.1 kB)\n",
      "Collecting torchaudio\n",
      "  Downloading torchaudio-2.7.1-cp312-cp312-win_amd64.whl.metadata (6.6 kB)\n",
      "Requirement already satisfied: filelock in c:\\users\\gusta\\anaconda3\\lib\\site-packages (from torch) (3.13.1)\n",
      "Requirement already satisfied: typing-extensions>=4.10.0 in c:\\users\\gusta\\anaconda3\\lib\\site-packages (from torch) (4.11.0)\n",
      "Collecting sympy>=1.13.3 (from torch)\n",
      "  Using cached sympy-1.14.0-py3-none-any.whl.metadata (12 kB)\n",
      "Requirement already satisfied: networkx in c:\\users\\gusta\\anaconda3\\lib\\site-packages (from torch) (3.3)\n",
      "Requirement already satisfied: jinja2 in c:\\users\\gusta\\anaconda3\\lib\\site-packages (from torch) (3.1.4)\n",
      "Requirement already satisfied: fsspec in c:\\users\\gusta\\anaconda3\\lib\\site-packages (from torch) (2024.6.1)\n",
      "Requirement already satisfied: setuptools in c:\\users\\gusta\\anaconda3\\lib\\site-packages (from torch) (75.1.0)\n",
      "Requirement already satisfied: numpy in c:\\users\\gusta\\anaconda3\\lib\\site-packages (from torchvision) (1.26.4)\n",
      "Requirement already satisfied: pillow!=8.3.*,>=5.3.0 in c:\\users\\gusta\\anaconda3\\lib\\site-packages (from torchvision) (10.4.0)\n",
      "Requirement already satisfied: mpmath<1.4,>=1.1.0 in c:\\users\\gusta\\anaconda3\\lib\\site-packages (from sympy>=1.13.3->torch) (1.3.0)\n",
      "Requirement already satisfied: MarkupSafe>=2.0 in c:\\users\\gusta\\anaconda3\\lib\\site-packages (from jinja2->torch) (2.1.3)\n",
      "Downloading torch-2.7.1-cp312-cp312-win_amd64.whl (216.1 MB)\n",
      "   ---------------------------------------- 0.0/216.1 MB ? eta -:--:--\n",
      "   ---------------------------------------- 1.0/216.1 MB 10.1 MB/s eta 0:00:22\n",
      "   - -------------------------------------- 6.3/216.1 MB 24.1 MB/s eta 0:00:09\n",
      "   - -------------------------------------- 10.2/216.1 MB 19.3 MB/s eta 0:00:11\n",
      "   -- ------------------------------------- 15.5/216.1 MB 21.1 MB/s eta 0:00:10\n",
      "   ---- ----------------------------------- 25.4/216.1 MB 25.5 MB/s eta 0:00:08\n",
      "   ------ --------------------------------- 34.9/216.1 MB 29.1 MB/s eta 0:00:07\n",
      "   ------- -------------------------------- 40.1/216.1 MB 29.3 MB/s eta 0:00:07\n",
      "   -------- ------------------------------- 48.0/216.1 MB 29.1 MB/s eta 0:00:06\n",
      "   ---------- ----------------------------- 55.6/216.1 MB 29.3 MB/s eta 0:00:06\n",
      "   ----------- ---------------------------- 63.7/216.1 MB 29.9 MB/s eta 0:00:06\n",
      "   ------------- -------------------------- 73.4/216.1 MB 31.0 MB/s eta 0:00:05\n",
      "   --------------- ------------------------ 81.3/216.1 MB 31.0 MB/s eta 0:00:05\n",
      "   ---------------- ----------------------- 87.0/216.1 MB 30.7 MB/s eta 0:00:05\n",
      "   ---------------- ----------------------- 90.4/216.1 MB 29.6 MB/s eta 0:00:05\n",
      "   ----------------- ---------------------- 94.1/216.1 MB 28.6 MB/s eta 0:00:05\n",
      "   ------------------ --------------------- 97.5/216.1 MB 27.8 MB/s eta 0:00:05\n",
      "   ------------------ -------------------- 100.4/216.1 MB 27.0 MB/s eta 0:00:05\n",
      "   ------------------ -------------------- 104.3/216.1 MB 26.5 MB/s eta 0:00:05\n",
      "   ------------------- ------------------- 105.9/216.1 MB 25.3 MB/s eta 0:00:05\n",
      "   -------------------- ------------------ 111.7/216.1 MB 25.6 MB/s eta 0:00:05\n",
      "   -------------------- ------------------ 114.8/216.1 MB 24.7 MB/s eta 0:00:05\n",
      "   --------------------- ----------------- 117.2/216.1 MB 23.9 MB/s eta 0:00:05\n",
      "   ---------------------- ---------------- 124.5/216.1 MB 24.3 MB/s eta 0:00:04\n",
      "   ----------------------- --------------- 127.9/216.1 MB 24.0 MB/s eta 0:00:04\n",
      "   ----------------------- --------------- 131.3/216.1 MB 23.6 MB/s eta 0:00:04\n",
      "   ------------------------ -------------- 136.3/216.1 MB 23.3 MB/s eta 0:00:04\n",
      "   ------------------------- ------------- 139.7/216.1 MB 23.0 MB/s eta 0:00:04\n",
      "   -------------------------- ------------ 145.2/216.1 MB 22.9 MB/s eta 0:00:04\n",
      "   -------------------------- ------------ 149.2/216.1 MB 22.6 MB/s eta 0:00:03\n",
      "   --------------------------- ----------- 153.1/216.1 MB 22.5 MB/s eta 0:00:03\n",
      "   ---------------------------- ---------- 156.8/216.1 MB 22.4 MB/s eta 0:00:03\n",
      "   ----------------------------- --------- 160.7/216.1 MB 22.2 MB/s eta 0:00:03\n",
      "   ----------------------------- --------- 164.6/216.1 MB 22.1 MB/s eta 0:00:03\n",
      "   ------------------------------ -------- 168.3/216.1 MB 21.9 MB/s eta 0:00:03\n",
      "   ------------------------------- ------- 172.0/216.1 MB 21.7 MB/s eta 0:00:03\n",
      "   ------------------------------- ------- 176.9/216.1 MB 21.6 MB/s eta 0:00:02\n",
      "   -------------------------------- ------ 182.2/216.1 MB 21.6 MB/s eta 0:00:02\n",
      "   --------------------------------- ----- 187.4/216.1 MB 21.4 MB/s eta 0:00:02\n",
      "   ---------------------------------- ---- 191.1/216.1 MB 21.4 MB/s eta 0:00:02\n",
      "   ----------------------------------- --- 194.8/216.1 MB 21.2 MB/s eta 0:00:02\n",
      "   ----------------------------------- --- 198.7/216.1 MB 21.2 MB/s eta 0:00:01\n",
      "   ------------------------------------ -- 202.4/216.1 MB 21.1 MB/s eta 0:00:01\n",
      "   ------------------------------------- - 206.3/216.1 MB 21.1 MB/s eta 0:00:01\n",
      "   ------------------------------------- - 210.5/216.1 MB 21.0 MB/s eta 0:00:01\n",
      "   --------------------------------------  214.2/216.1 MB 21.0 MB/s eta 0:00:01\n",
      "   --------------------------------------  216.0/216.1 MB 20.9 MB/s eta 0:00:01\n",
      "   --------------------------------------  216.0/216.1 MB 20.9 MB/s eta 0:00:01\n",
      "   --------------------------------------  216.0/216.1 MB 20.9 MB/s eta 0:00:01\n",
      "   --------------------------------------  216.0/216.1 MB 20.9 MB/s eta 0:00:01\n",
      "   --------------------------------------- 216.1/216.1 MB 19.2 MB/s eta 0:00:00\n",
      "Downloading torchvision-0.22.1-cp312-cp312-win_amd64.whl (1.7 MB)\n",
      "   ---------------------------------------- 0.0/1.7 MB ? eta -:--:--\n",
      "   ------------------------------ --------- 1.3/1.7 MB 7.5 MB/s eta 0:00:01\n",
      "   ---------------------------------------- 1.7/1.7 MB 5.5 MB/s eta 0:00:00\n",
      "Downloading torchaudio-2.7.1-cp312-cp312-win_amd64.whl (2.5 MB)\n",
      "   ---------------------------------------- 0.0/2.5 MB ? eta -:--:--\n",
      "   ---------------------------------------- 2.5/2.5 MB 15.9 MB/s eta 0:00:00\n",
      "Using cached sympy-1.14.0-py3-none-any.whl (6.3 MB)\n",
      "Installing collected packages: sympy, torch, torchvision, torchaudio\n",
      "  Attempting uninstall: sympy\n",
      "    Found existing installation: sympy 1.13.2\n",
      "    Uninstalling sympy-1.13.2:\n",
      "      Successfully uninstalled sympy-1.13.2\n",
      "Successfully installed sympy-1.14.0 torch-2.7.1 torchaudio-2.7.1 torchvision-0.22.1\n"
     ]
    }
   ],
   "source": [
    "!pip install torch torchvision torchaudio"
   ]
  },
  {
   "cell_type": "code",
   "execution_count": 9,
   "id": "919125bb-9c1e-4774-ad8b-58b1984aa9a8",
   "metadata": {},
   "outputs": [
    {
     "name": "stdout",
     "output_type": "stream",
     "text": [
      "✅ Dataset pronto! Estrutura compatível com Keras/TensorFlow/PyTorch 🎯\n"
     ]
    }
   ],
   "source": [
    "import os\n",
    "import shutil\n",
    "import random\n",
    "\n",
    "original_dataset = r'C:/Users/gusta/Documents/Projeto_Carros/old_dataset'\n",
    "destino_base = r'C:/Users/gusta/Documents/Projeto_Carros/new_dataset'\n",
    "train_path = os.path.join(destino_base, \"train\")\n",
    "test_path = os.path.join(destino_base, \"test\")\n",
    "external_path = os.path.join(destino_base, \"external\")\n",
    "split_train = 0.7\n",
    "split_test = 0.2\n",
    "split_external = 0.1\n",
    "\n",
    "mapa_classes = {\n",
    "    \"fake_image\": \"fake\",\n",
    "    \"real_image\": \"real\"\n",
    "}\n",
    "\n",
    "extensoes_validas = (\".jpg\", \".jpeg\", \".png\", \".bmp\")\n",
    "\n",
    "os.makedirs(train_path, exist_ok=True)\n",
    "os.makedirs(test_path, exist_ok=True)\n",
    "os.makedirs(external_path, exist_ok=True)\n",
    "\n",
    "\n",
    "for classe_antiga in os.listdir(original_dataset):\n",
    "    classe_path = os.path.join(original_dataset, classe_antiga)\n",
    "    if not os.path.isdir(classe_path):\n",
    "        continue\n",
    "\n",
    "    classe = mapa_classes.get(classe_antiga, classe_antiga)\n",
    "\n",
    "    imagens = [f for f in os.listdir(classe_path) if f.lower().endswith(extensoes_validas)]\n",
    "    random.shuffle(imagens)\n",
    "\n",
    "    total = len(imagens)\n",
    "    train_end = int(total * split_train)\n",
    "    test_end = train_end + int(total * split_test)\n",
    "\n",
    "    imagens_train = imagens[:train_end]\n",
    "    imagens_test = imagens[train_end:test_end]\n",
    "    imagens_external = imagens[test_end:]\n",
    "\n",
    "    os.makedirs(os.path.join(train_path, classe), exist_ok=True)\n",
    "    os.makedirs(os.path.join(test_path, classe), exist_ok=True)\n",
    "    os.makedirs(os.path.join(external_path, classe), exist_ok=True)\n",
    "\n",
    "    for img in imagens_train:\n",
    "        src = os.path.join(classe_path, img)\n",
    "        dst = os.path.join(train_path, classe, img)\n",
    "        try:\n",
    "            shutil.copy2(src, dst)\n",
    "        except Exception as e:\n",
    "            print(f\"Erro ao copiar {src}: {e}\")\n",
    "\n",
    "    for img in imagens_test:\n",
    "        src = os.path.join(classe_path, img)\n",
    "        dst = os.path.join(test_path, classe, img)\n",
    "        try:\n",
    "            shutil.copy2(src, dst)\n",
    "        except Exception as e:\n",
    "            print(f\"Erro ao copiar {src}: {e}\")\n",
    "\n",
    "    for img in imagens_external:\n",
    "        src = os.path.join(classe_path, img)\n",
    "        dst = os.path.join(external_path, classe, img)\n",
    "        try:\n",
    "            shutil.copy2(src, dst)\n",
    "        except Exception as e:\n",
    "            print(f\"Erro ao copiar {src}: {e}\")\n",
    "\n",
    "print(\"Dataset pronto! Estrutura compatível\")\n"
   ]
  },
  {
   "cell_type": "code",
   "execution_count": 156,
   "id": "83335550-af36-41d9-b0e3-01a1825c61a5",
   "metadata": {},
   "outputs": [],
   "source": [
    "import pandas as pd"
   ]
  },
  {
   "cell_type": "code",
   "execution_count": 158,
   "id": "c4de62e9-7451-4987-b909-708fa9a66b03",
   "metadata": {},
   "outputs": [],
   "source": [
    "from pathlib import Path\n",
    "import pandas as pd\n",
    "from tqdm import tqdm\n",
    "\n",
    "file_names = []\n",
    "labels = []\n",
    "\n",
    "base_path = Path(r'C:/Users/gusta/Documents/Projeto_Carros/new_dataset')\n",
    "\n",
    "for file in sorted(base_path.glob('*/*/*.*')):\n",
    "    if file.is_file():\n",
    "        label = file.parts[-2]\n",
    "        file_names.append(str(file))\n",
    "        labels.append(label)\n",
    "\n",
    "df = pd.DataFrame({\"image\": file_names, \"label\": labels})"
   ]
  },
  {
   "cell_type": "code",
   "execution_count": 160,
   "id": "cc876a2c-d7fb-4de0-af7f-e553d7e15b4e",
   "metadata": {},
   "outputs": [
    {
     "data": {
      "text/html": [
       "<div>\n",
       "<style scoped>\n",
       "    .dataframe tbody tr th:only-of-type {\n",
       "        vertical-align: middle;\n",
       "    }\n",
       "\n",
       "    .dataframe tbody tr th {\n",
       "        vertical-align: top;\n",
       "    }\n",
       "\n",
       "    .dataframe thead th {\n",
       "        text-align: right;\n",
       "    }\n",
       "</style>\n",
       "<table border=\"1\" class=\"dataframe\">\n",
       "  <thead>\n",
       "    <tr style=\"text-align: right;\">\n",
       "      <th></th>\n",
       "      <th>image</th>\n",
       "      <th>label</th>\n",
       "    </tr>\n",
       "  </thead>\n",
       "  <tbody>\n",
       "    <tr>\n",
       "      <th>0</th>\n",
       "      <td>C:\\Users\\gusta\\Documents\\Projeto_Carros\\new_da...</td>\n",
       "      <td>fake</td>\n",
       "    </tr>\n",
       "    <tr>\n",
       "      <th>1</th>\n",
       "      <td>C:\\Users\\gusta\\Documents\\Projeto_Carros\\new_da...</td>\n",
       "      <td>fake</td>\n",
       "    </tr>\n",
       "    <tr>\n",
       "      <th>2</th>\n",
       "      <td>C:\\Users\\gusta\\Documents\\Projeto_Carros\\new_da...</td>\n",
       "      <td>fake</td>\n",
       "    </tr>\n",
       "    <tr>\n",
       "      <th>3</th>\n",
       "      <td>C:\\Users\\gusta\\Documents\\Projeto_Carros\\new_da...</td>\n",
       "      <td>fake</td>\n",
       "    </tr>\n",
       "    <tr>\n",
       "      <th>4</th>\n",
       "      <td>C:\\Users\\gusta\\Documents\\Projeto_Carros\\new_da...</td>\n",
       "      <td>fake</td>\n",
       "    </tr>\n",
       "  </tbody>\n",
       "</table>\n",
       "</div>"
      ],
      "text/plain": [
       "                                               image label\n",
       "0  C:\\Users\\gusta\\Documents\\Projeto_Carros\\new_da...  fake\n",
       "1  C:\\Users\\gusta\\Documents\\Projeto_Carros\\new_da...  fake\n",
       "2  C:\\Users\\gusta\\Documents\\Projeto_Carros\\new_da...  fake\n",
       "3  C:\\Users\\gusta\\Documents\\Projeto_Carros\\new_da...  fake\n",
       "4  C:\\Users\\gusta\\Documents\\Projeto_Carros\\new_da...  fake"
      ]
     },
     "execution_count": 160,
     "metadata": {},
     "output_type": "execute_result"
    }
   ],
   "source": [
    "df.head()"
   ]
  },
  {
   "cell_type": "code",
   "execution_count": 162,
   "id": "cb27ad42-0fc7-4fad-87b3-b9c1a970fd15",
   "metadata": {},
   "outputs": [
    {
     "data": {
      "text/plain": [
       "label\n",
       "real    210\n",
       "fake    130\n",
       "Name: count, dtype: int64"
      ]
     },
     "execution_count": 162,
     "metadata": {},
     "output_type": "execute_result"
    }
   ],
   "source": [
    "df.label.value_counts()"
   ]
  },
  {
   "cell_type": "code",
   "execution_count": 164,
   "id": "22b58779-20b4-4a4e-97d0-fd2f5441bc36",
   "metadata": {},
   "outputs": [
    {
     "data": {
      "text/plain": [
       "array(['fake', 'real'], dtype=object)"
      ]
     },
     "execution_count": 164,
     "metadata": {},
     "output_type": "execute_result"
    }
   ],
   "source": [
    "df.label.unique()"
   ]
  },
  {
   "cell_type": "code",
   "execution_count": 166,
   "id": "aa0945ca-8621-4123-8460-d8703b05ca59",
   "metadata": {},
   "outputs": [
    {
     "name": "stdout",
     "output_type": "stream",
     "text": [
      "label\n",
      "real    210\n",
      "fake    130\n",
      "Name: count, dtype: int64\n"
     ]
    }
   ],
   "source": [
    "print(df['label'].value_counts())"
   ]
  },
  {
   "cell_type": "code",
   "execution_count": 168,
   "id": "7106bb8e-7cd7-4a38-811c-0b514f6198c1",
   "metadata": {},
   "outputs": [
    {
     "name": "stdout",
     "output_type": "stream",
     "text": [
      "label\n",
      "real    210\n",
      "fake    130\n",
      "Name: count, dtype: int64\n",
      "                                               image label\n",
      "0  C:\\Users\\gusta\\Documents\\Projeto_Carros\\new_da...  fake\n",
      "1  C:\\Users\\gusta\\Documents\\Projeto_Carros\\new_da...  fake\n",
      "2  C:\\Users\\gusta\\Documents\\Projeto_Carros\\new_da...  fake\n",
      "3  C:\\Users\\gusta\\Documents\\Projeto_Carros\\new_da...  fake\n",
      "4  C:\\Users\\gusta\\Documents\\Projeto_Carros\\new_da...  fake\n"
     ]
    }
   ],
   "source": [
    "print(df['label'].value_counts())\n",
    "print(df.head())"
   ]
  },
  {
   "cell_type": "code",
   "execution_count": 170,
   "id": "53c7047c-4f11-45a3-a0dd-8b3d41288967",
   "metadata": {},
   "outputs": [
    {
     "data": {
      "text/html": [
       "<div>\n",
       "<style scoped>\n",
       "    .dataframe tbody tr th:only-of-type {\n",
       "        vertical-align: middle;\n",
       "    }\n",
       "\n",
       "    .dataframe tbody tr th {\n",
       "        vertical-align: top;\n",
       "    }\n",
       "\n",
       "    .dataframe thead th {\n",
       "        text-align: right;\n",
       "    }\n",
       "</style>\n",
       "<table border=\"1\" class=\"dataframe\">\n",
       "  <thead>\n",
       "    <tr style=\"text-align: right;\">\n",
       "      <th></th>\n",
       "      <th>image</th>\n",
       "      <th>label</th>\n",
       "    </tr>\n",
       "  </thead>\n",
       "  <tbody>\n",
       "    <tr>\n",
       "      <th>335</th>\n",
       "      <td>C:\\Users\\gusta\\Documents\\Projeto_Carros\\new_da...</td>\n",
       "      <td>real</td>\n",
       "    </tr>\n",
       "    <tr>\n",
       "      <th>336</th>\n",
       "      <td>C:\\Users\\gusta\\Documents\\Projeto_Carros\\new_da...</td>\n",
       "      <td>real</td>\n",
       "    </tr>\n",
       "    <tr>\n",
       "      <th>337</th>\n",
       "      <td>C:\\Users\\gusta\\Documents\\Projeto_Carros\\new_da...</td>\n",
       "      <td>real</td>\n",
       "    </tr>\n",
       "    <tr>\n",
       "      <th>338</th>\n",
       "      <td>C:\\Users\\gusta\\Documents\\Projeto_Carros\\new_da...</td>\n",
       "      <td>real</td>\n",
       "    </tr>\n",
       "    <tr>\n",
       "      <th>339</th>\n",
       "      <td>C:\\Users\\gusta\\Documents\\Projeto_Carros\\new_da...</td>\n",
       "      <td>real</td>\n",
       "    </tr>\n",
       "  </tbody>\n",
       "</table>\n",
       "</div>"
      ],
      "text/plain": [
       "                                                 image label\n",
       "335  C:\\Users\\gusta\\Documents\\Projeto_Carros\\new_da...  real\n",
       "336  C:\\Users\\gusta\\Documents\\Projeto_Carros\\new_da...  real\n",
       "337  C:\\Users\\gusta\\Documents\\Projeto_Carros\\new_da...  real\n",
       "338  C:\\Users\\gusta\\Documents\\Projeto_Carros\\new_da...  real\n",
       "339  C:\\Users\\gusta\\Documents\\Projeto_Carros\\new_da...  real"
      ]
     },
     "execution_count": 170,
     "metadata": {},
     "output_type": "execute_result"
    }
   ],
   "source": [
    "df.tail()"
   ]
  },
  {
   "cell_type": "code",
   "execution_count": 172,
   "id": "e3138e9c-cfd1-4e14-a2c4-5b0c91f344c4",
   "metadata": {},
   "outputs": [
    {
     "data": {
      "text/html": [
       "<div>\n",
       "<style scoped>\n",
       "    .dataframe tbody tr th:only-of-type {\n",
       "        vertical-align: middle;\n",
       "    }\n",
       "\n",
       "    .dataframe tbody tr th {\n",
       "        vertical-align: top;\n",
       "    }\n",
       "\n",
       "    .dataframe thead th {\n",
       "        text-align: right;\n",
       "    }\n",
       "</style>\n",
       "<table border=\"1\" class=\"dataframe\">\n",
       "  <thead>\n",
       "    <tr style=\"text-align: right;\">\n",
       "      <th></th>\n",
       "      <th>image</th>\n",
       "      <th>label</th>\n",
       "    </tr>\n",
       "  </thead>\n",
       "  <tbody>\n",
       "    <tr>\n",
       "      <th>count</th>\n",
       "      <td>340</td>\n",
       "      <td>340</td>\n",
       "    </tr>\n",
       "    <tr>\n",
       "      <th>unique</th>\n",
       "      <td>340</td>\n",
       "      <td>2</td>\n",
       "    </tr>\n",
       "    <tr>\n",
       "      <th>top</th>\n",
       "      <td>C:\\Users\\gusta\\Documents\\Projeto_Carros\\new_da...</td>\n",
       "      <td>real</td>\n",
       "    </tr>\n",
       "    <tr>\n",
       "      <th>freq</th>\n",
       "      <td>1</td>\n",
       "      <td>210</td>\n",
       "    </tr>\n",
       "  </tbody>\n",
       "</table>\n",
       "</div>"
      ],
      "text/plain": [
       "                                                    image label\n",
       "count                                                 340   340\n",
       "unique                                                340     2\n",
       "top     C:\\Users\\gusta\\Documents\\Projeto_Carros\\new_da...  real\n",
       "freq                                                    1   210"
      ]
     },
     "execution_count": 172,
     "metadata": {},
     "output_type": "execute_result"
    }
   ],
   "source": [
    "df.describe()"
   ]
  },
  {
   "cell_type": "code",
   "execution_count": 174,
   "id": "7e4fe62c-5423-4c6b-9a72-b71bf5dd94bb",
   "metadata": {},
   "outputs": [
    {
     "name": "stdout",
     "output_type": "stream",
     "text": [
      "<class 'pandas.core.frame.DataFrame'>\n",
      "RangeIndex: 340 entries, 0 to 339\n",
      "Data columns (total 2 columns):\n",
      " #   Column  Non-Null Count  Dtype \n",
      "---  ------  --------------  ----- \n",
      " 0   image   340 non-null    object\n",
      " 1   label   340 non-null    object\n",
      "dtypes: object(2)\n",
      "memory usage: 5.4+ KB\n"
     ]
    }
   ],
   "source": [
    "df.info()"
   ]
  },
  {
   "cell_type": "code",
   "execution_count": 176,
   "id": "4c09dcaf-a243-468d-bb36-ea906ac9de78",
   "metadata": {},
   "outputs": [],
   "source": [
    "X = df.drop(columns='label', axis=1)\n",
    "y = df.label"
   ]
  },
  {
   "cell_type": "code",
   "execution_count": 178,
   "id": "e12703c9-e0ad-4d41-8b52-c5db52b76df2",
   "metadata": {},
   "outputs": [],
   "source": [
    "from sklearn.model_selection import train_test_split"
   ]
  },
  {
   "cell_type": "code",
   "execution_count": 180,
   "id": "86292153-790d-4f71-b19a-e218d98a37f5",
   "metadata": {},
   "outputs": [],
   "source": [
    "X_train, X_test, y_train, y_test = train_test_split(X, y, test_size=0.2, stratify=y, random_state=42)"
   ]
  },
  {
   "cell_type": "code",
   "execution_count": 182,
   "id": "66929083-7b42-4d9f-bdf4-e32b12841d09",
   "metadata": {},
   "outputs": [
    {
     "name": "stderr",
     "output_type": "stream",
     "text": [
      "Extraindo features: 100%|████████████████████████████████████████████████████████████| 340/340 [01:32<00:00,  3.68it/s]\n"
     ]
    }
   ],
   "source": [
    "features = []\n",
    "\n",
    "for img_path in tqdm(df['image'], desc=\"Extraindo features\"):\n",
    "    feat = extract_features(img_path)\n",
    "    features.append(feat)\n",
    "\n",
    "X_feat = pd.DataFrame(features)\n",
    "y = df['label']"
   ]
  },
  {
   "cell_type": "code",
   "execution_count": 183,
   "id": "7db29538-7679-4a50-b50a-489d2c979a32",
   "metadata": {},
   "outputs": [
    {
     "name": "stdout",
     "output_type": "stream",
     "text": [
      "              precision    recall  f1-score   support\n",
      "\n",
      "        fake       1.00      0.92      0.96        26\n",
      "        real       0.95      1.00      0.98        42\n",
      "\n",
      "    accuracy                           0.97        68\n",
      "   macro avg       0.98      0.96      0.97        68\n",
      "weighted avg       0.97      0.97      0.97        68\n",
      "\n"
     ]
    }
   ],
   "source": [
    "from sklearn.model_selection import train_test_split\n",
    "from sklearn.ensemble import RandomForestClassifier\n",
    "from sklearn.metrics import classification_report\n",
    "\n",
    "X_train, X_test, y_train, y_test = train_test_split(X_feat, y, test_size=0.2, stratify=y, random_state=42)\n",
    "\n",
    "model = RandomForestClassifier()\n",
    "model.fit(X_train, y_train)\n",
    "\n",
    "y_pred = model.predict(X_test)\n",
    "\n",
    "print(classification_report(y_test, y_pred))"
   ]
  },
  {
   "cell_type": "code",
   "execution_count": 184,
   "id": "1d4c9e92-3128-499d-b05b-f83f73d9e832",
   "metadata": {},
   "outputs": [
    {
     "data": {
      "image/png": "[encoded data removed]",
      "text/plain": [
       "<Figure size 640x480 with 2 Axes>"
      ]
     },
     "metadata": {},
     "output_type": "display_data"
    }
   ],
   "source": [
    "from sklearn.metrics import confusion_matrix, ConfusionMatrixDisplay\n",
    "import matplotlib.pyplot as plt\n",
    "\n",
    "cm = confusion_matrix(y_test, y_pred, labels=model.classes_)\n",
    "\n",
    "disp = ConfusionMatrixDisplay(confusion_matrix=cm, display_labels=model.classes_)\n",
    "disp.plot(cmap='Blues')\n",
    "\n",
    "plt.title(\"Matriz de Confusão\")\n",
    "plt.show()"
   ]
  },
  {
   "cell_type": "code",
   "execution_count": null,
   "id": "06982e67-e9f7-4a60-b158-575eb68d2e5b",
   "metadata": {},
   "outputs": [],
   "source": []
  },
  {
   "cell_type": "code",
   "execution_count": null,
   "id": "1b30e9df-55ea-4f9e-a61b-daa51ce0ffd1",
   "metadata": {},
   "outputs": [],
   "source": []
  },
  {
   "cell_type": "code",
   "execution_count": null,
   "id": "fbf53d18-0aaf-4eb9-a06d-9aef615a12ca",
   "metadata": {},
   "outputs": [],
   "source": []
  },
  {
   "cell_type": "code",
   "execution_count": null,
   "id": "d2a0ab84-d708-4d98-8310-5886b8a8a40c",
   "metadata": {},
   "outputs": [],
   "source": []
  }
 ],
 "metadata": {
  "kernelspec": {
   "display_name": "Python 3 (ipykernel)",
   "language": "python",
   "name": "python3"
  },
  "language_info": {
   "codemirror_mode": {
    "name": "ipython",
    "version": 3
   },
   "file_extension": ".py",
   "mimetype": "text/x-python",
   "name": "python",
   "nbconvert_exporter": "python",
   "pygments_lexer": "ipython3",
   "version": "3.12.7"
  }
 },
 "nbformat": 4,
 "nbformat_minor": 5
}
